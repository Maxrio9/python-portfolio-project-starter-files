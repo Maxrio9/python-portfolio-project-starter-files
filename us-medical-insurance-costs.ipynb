{
 "cells": [
  {
   "cell_type": "markdown",
   "metadata": {},
   "source": [
    "# U.S. Medical Insurance Costs"
   ]
  },
  {
   "cell_type": "markdown",
   "metadata": {},
   "source": [
    "Columns are:\n",
    "age, sex, bmi, children, smoker, region, charges\n",
    "In the form of:\n",
    "int, string (male/female), float, int, string (no/yes), string (southwest/northwest), float\n",
    "\n",
    "#1 & #2 Import as pandas dataframe and clean up data by transforming sex and smoker column into boolean or 0 and 1\n",
    "\n",
    "#3 Possible things to investigate\n",
    "Average Age, insurance cost and bmi\n",
    "Average insurance cost for certain age ranges: 18 - 24, 25 - 32, 33 - 40, 41 - 50, 51 - 60, etc.\n",
    "Visualise this data in a bar chart.\n",
    "Same for insurance cost by sex and region\n",
    "\n",
    "Return with better understanding of matplotlib"
   ]
  },
  {
   "cell_type": "code",
   "execution_count": 27,
   "metadata": {},
   "outputs": [
    {
     "name": "stdout",
     "output_type": "stream",
     "text": [
      "   age     sex     bmi  children smoker     region      charges\n",
      "0   19  female  27.900         0    yes  southwest  16884.92400\n",
      "1   18    male  33.770         1     no  southeast   1725.55230\n",
      "2   28    male  33.000         3     no  southeast   4449.46200\n",
      "3   33    male  22.705         0     no  northwest  21984.47061\n",
      "4   32    male  28.880         0     no  northwest   3866.85520\n"
     ]
    }
   ],
   "source": [
    "import pandas as pd\n",
    "import sys\n",
    "import matplotlib.pyplot as plt\n",
    "\n",
    "insurance_data = pd.read_csv(\"insurance.csv\")\n",
    "\n",
    "print(insurance_data.head())\n",
    "\n",
    "# Make sex and smoker into 0 and 1 column\n",
    "\n",
    "value_map = {'male': 0, 'female': 1, 'no': 0, 'yes': 1}\n",
    "insurance_data['sex'] = insurance_data['sex'].map(value_map)\n",
    "insurance_data['smoker'] = insurance_data['smoker'].map(value_map)"
   ]
  },
  {
   "cell_type": "code",
   "execution_count": 28,
   "metadata": {},
   "outputs": [
    {
     "name": "stdout",
     "output_type": "stream",
     "text": [
      "The average age of people in the dataset is 39.21 years old\n",
      "The average BMI of people in the dataset is 30.66\n",
      "The average amount of children of people in the dataset is 1.09\n",
      "The average insurance charge of people in the dataset is 13270.42$\n",
      "20.48% of the people in the dataset are smokers\n"
     ]
    }
   ],
   "source": [
    "print(\"The average age of people in the dataset is\", round(insurance_data[\"age\"].mean(), 2), \"years old\")\n",
    "print(\"The average BMI of people in the dataset is\", round(insurance_data[\"bmi\"].mean(), 2))\n",
    "print(\"The average amount of children of people in the dataset is\", round(insurance_data[\"children\"].mean(), 2))\n",
    "print(\"The average insurance charge of people in the dataset is {0}$\".format(round(insurance_data[\"charges\"].mean(), 2)))\n",
    "print(\"{0}% of the people in the dataset are smokers\".format(round(insurance_data[\"smoker\"].mean() * 100, 2)))"
   ]
  },
  {
   "cell_type": "code",
   "execution_count": 34,
   "metadata": {},
   "outputs": [
    {
     "ename": "KeyError",
     "evalue": "(0, 12)",
     "output_type": "error",
     "traceback": [
      "\u001b[1;31m---------------------------------------------------------------------------\u001b[0m",
      "\u001b[1;31mKeyError\u001b[0m                                  Traceback (most recent call last)",
      "Cell \u001b[1;32mIn [34], line 28\u001b[0m\n\u001b[0;32m     24\u001b[0m     plt\u001b[38;5;241m.\u001b[39mlegend()\n\u001b[0;32m     25\u001b[0m     plt\u001b[38;5;241m.\u001b[39mshow()\n\u001b[1;32m---> 28\u001b[0m \u001b[43mcost_by_age\u001b[49m\u001b[43m(\u001b[49m\u001b[43minsurance_data\u001b[49m\u001b[43m)\u001b[49m\n",
      "Cell \u001b[1;32mIn [34], line 17\u001b[0m, in \u001b[0;36mcost_by_age\u001b[1;34m(df)\u001b[0m\n\u001b[0;32m      2\u001b[0m age_brackets \u001b[38;5;241m=\u001b[39m {\n\u001b[0;32m      3\u001b[0m     \u001b[38;5;124m\"\u001b[39m\u001b[38;5;124m0 - 12\u001b[39m\u001b[38;5;124m\"\u001b[39m: (\u001b[38;5;241m0\u001b[39m, \u001b[38;5;241m12\u001b[39m),\n\u001b[0;32m      4\u001b[0m     \u001b[38;5;124m\"\u001b[39m\u001b[38;5;124m13 - 17\u001b[39m\u001b[38;5;124m\"\u001b[39m: (\u001b[38;5;241m13\u001b[39m, \u001b[38;5;241m17\u001b[39m),\n\u001b[1;32m   (...)\u001b[0m\n\u001b[0;32m     13\u001b[0m     \u001b[38;5;124m\"\u001b[39m\u001b[38;5;124m91+\u001b[39m\u001b[38;5;124m\"\u001b[39m: (\u001b[38;5;241m91\u001b[39m, \u001b[38;5;241m130\u001b[39m)\n\u001b[0;32m     14\u001b[0m     }\n\u001b[0;32m     15\u001b[0m age_bins \u001b[38;5;241m=\u001b[39m [\u001b[38;5;241m12\u001b[39m, \u001b[38;5;241m17\u001b[39m, \u001b[38;5;241m24\u001b[39m, \u001b[38;5;241m32\u001b[39m, \u001b[38;5;241m40\u001b[39m, \u001b[38;5;241m50\u001b[39m, \u001b[38;5;241m60\u001b[39m, \u001b[38;5;241m70\u001b[39m, \u001b[38;5;241m80\u001b[39m, \u001b[38;5;241m90\u001b[39m, \u001b[38;5;241m100\u001b[39m]\n\u001b[1;32m---> 17\u001b[0m bins \u001b[38;5;241m=\u001b[39m [age_brackets[bracket][\u001b[38;5;241m0\u001b[39m] \u001b[38;5;28;01mfor\u001b[39;00m bracket \u001b[38;5;129;01min\u001b[39;00m age_brackets\u001b[38;5;241m.\u001b[39mvalues()]\n\u001b[0;32m     19\u001b[0m plt\u001b[38;5;241m.\u001b[39mhist(df[\u001b[38;5;124m\"\u001b[39m\u001b[38;5;124mcharges\u001b[39m\u001b[38;5;124m\"\u001b[39m], age_bins, edgecolor \u001b[38;5;241m=\u001b[39m \u001b[38;5;124m\"\u001b[39m\u001b[38;5;124mblack\u001b[39m\u001b[38;5;124m\"\u001b[39m)\n\u001b[0;32m     20\u001b[0m plt\u001b[38;5;241m.\u001b[39maxvline(\u001b[38;5;28mround\u001b[39m(insurance_data[\u001b[38;5;124m\"\u001b[39m\u001b[38;5;124mage\u001b[39m\u001b[38;5;124m\"\u001b[39m]\u001b[38;5;241m.\u001b[39mmean(), \u001b[38;5;241m2\u001b[39m), color \u001b[38;5;241m=\u001b[39m \u001b[38;5;124m\"\u001b[39m\u001b[38;5;124mblack\u001b[39m\u001b[38;5;124m\"\u001b[39m, label \u001b[38;5;241m=\u001b[39m \u001b[38;5;124m\"\u001b[39m\u001b[38;5;124mAverage Age\u001b[39m\u001b[38;5;124m\"\u001b[39m)\n",
      "Cell \u001b[1;32mIn [34], line 17\u001b[0m, in \u001b[0;36m<listcomp>\u001b[1;34m(.0)\u001b[0m\n\u001b[0;32m      2\u001b[0m age_brackets \u001b[38;5;241m=\u001b[39m {\n\u001b[0;32m      3\u001b[0m     \u001b[38;5;124m\"\u001b[39m\u001b[38;5;124m0 - 12\u001b[39m\u001b[38;5;124m\"\u001b[39m: (\u001b[38;5;241m0\u001b[39m, \u001b[38;5;241m12\u001b[39m),\n\u001b[0;32m      4\u001b[0m     \u001b[38;5;124m\"\u001b[39m\u001b[38;5;124m13 - 17\u001b[39m\u001b[38;5;124m\"\u001b[39m: (\u001b[38;5;241m13\u001b[39m, \u001b[38;5;241m17\u001b[39m),\n\u001b[1;32m   (...)\u001b[0m\n\u001b[0;32m     13\u001b[0m     \u001b[38;5;124m\"\u001b[39m\u001b[38;5;124m91+\u001b[39m\u001b[38;5;124m\"\u001b[39m: (\u001b[38;5;241m91\u001b[39m, \u001b[38;5;241m130\u001b[39m)\n\u001b[0;32m     14\u001b[0m     }\n\u001b[0;32m     15\u001b[0m age_bins \u001b[38;5;241m=\u001b[39m [\u001b[38;5;241m12\u001b[39m, \u001b[38;5;241m17\u001b[39m, \u001b[38;5;241m24\u001b[39m, \u001b[38;5;241m32\u001b[39m, \u001b[38;5;241m40\u001b[39m, \u001b[38;5;241m50\u001b[39m, \u001b[38;5;241m60\u001b[39m, \u001b[38;5;241m70\u001b[39m, \u001b[38;5;241m80\u001b[39m, \u001b[38;5;241m90\u001b[39m, \u001b[38;5;241m100\u001b[39m]\n\u001b[1;32m---> 17\u001b[0m bins \u001b[38;5;241m=\u001b[39m [\u001b[43mage_brackets\u001b[49m\u001b[43m[\u001b[49m\u001b[43mbracket\u001b[49m\u001b[43m]\u001b[49m[\u001b[38;5;241m0\u001b[39m] \u001b[38;5;28;01mfor\u001b[39;00m bracket \u001b[38;5;129;01min\u001b[39;00m age_brackets\u001b[38;5;241m.\u001b[39mvalues()]\n\u001b[0;32m     19\u001b[0m plt\u001b[38;5;241m.\u001b[39mhist(df[\u001b[38;5;124m\"\u001b[39m\u001b[38;5;124mcharges\u001b[39m\u001b[38;5;124m\"\u001b[39m], age_bins, edgecolor \u001b[38;5;241m=\u001b[39m \u001b[38;5;124m\"\u001b[39m\u001b[38;5;124mblack\u001b[39m\u001b[38;5;124m\"\u001b[39m)\n\u001b[0;32m     20\u001b[0m plt\u001b[38;5;241m.\u001b[39maxvline(\u001b[38;5;28mround\u001b[39m(insurance_data[\u001b[38;5;124m\"\u001b[39m\u001b[38;5;124mage\u001b[39m\u001b[38;5;124m\"\u001b[39m]\u001b[38;5;241m.\u001b[39mmean(), \u001b[38;5;241m2\u001b[39m), color \u001b[38;5;241m=\u001b[39m \u001b[38;5;124m\"\u001b[39m\u001b[38;5;124mblack\u001b[39m\u001b[38;5;124m\"\u001b[39m, label \u001b[38;5;241m=\u001b[39m \u001b[38;5;124m\"\u001b[39m\u001b[38;5;124mAverage Age\u001b[39m\u001b[38;5;124m\"\u001b[39m)\n",
      "\u001b[1;31mKeyError\u001b[0m: (0, 12)"
     ]
    }
   ],
   "source": [
    "def cost_by_age(df):\n",
    "    age_brackets = {\n",
    "        \"0 - 12\": (0, 12),\n",
    "        \"13 - 17\": (13, 17),\n",
    "        \"18 - 24\": (18, 24),\n",
    "        \"25 - 32\": (25, 32),\n",
    "        \"33 - 40\": (33, 40),\n",
    "        \"41 - 50\": (41, 50),\n",
    "        \"51 - 60\": (51, 60),\n",
    "        \"61 - 70\": (61, 70),\n",
    "        \"71 - 80\": (71, 80),\n",
    "        \"81 - 90\": (81, 90),\n",
    "        \"91+\": (91, 130)\n",
    "        }\n",
    "    age_bins = [12, 17, 24, 32, 40, 50, 60, 70, 80, 90, 100]\n",
    "    \n",
    "    bins = [age_brackets[bracket][0] for bracket in age_brackets.values()]\n",
    "\n",
    "    plt.hist(df[\"charges\"], age_bins, edgecolor = \"black\")\n",
    "    plt.axvline(round(insurance_data[\"age\"].mean(), 2), color = \"black\", label = \"Average Age\")\n",
    "    plt.xlabel(\"Age\")\n",
    "    plt.ylabel(\"Insurance Cost\")\n",
    "    plt.title(\"Insurance Cost by Age Bracket\")\n",
    "    plt.legend()\n",
    "    plt.show()\n",
    "\n",
    "\n",
    "cost_by_age(insurance_data)"
   ]
  }
 ],
 "metadata": {
  "kernelspec": {
   "display_name": "Python 3",
   "language": "python",
   "name": "python3"
  },
  "language_info": {
   "codemirror_mode": {
    "name": "ipython",
    "version": 3
   },
   "file_extension": ".py",
   "mimetype": "text/x-python",
   "name": "python",
   "nbconvert_exporter": "python",
   "pygments_lexer": "ipython3",
   "version": "3.10.2"
  }
 },
 "nbformat": 4,
 "nbformat_minor": 4
}

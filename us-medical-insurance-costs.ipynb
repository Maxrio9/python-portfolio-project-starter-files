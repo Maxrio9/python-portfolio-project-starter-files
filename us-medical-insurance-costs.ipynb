{
 "cells": [
  {
   "cell_type": "markdown",
   "metadata": {},
   "source": [
    "# U.S. Medical Insurance Costs"
   ]
  },
  {
   "cell_type": "markdown",
   "metadata": {},
   "source": [
    "Columns are:\n",
    "age, sex, bmi, children, smoker, region, charges\n",
    "In the form of:\n",
    "int, string (male/female), float, int, string (no/yes), string (southwest/northwest), float\n",
    "\n",
    "#1 & #2 Import as pandas dataframe and clean up data by transforming sex and smoker column into boolean or 0 and 1\n",
    "\n",
    "#3 Possible things to investigate\n",
    "Average Age, insurance cost and bmi\n",
    "Average insurance cost for certain age ranges: 18 - 24, 25 - 32, 33 - 40, 41 - 50, 51 - 60, etc.\n",
    "Visualise this data in a bar chart.\n",
    "Same for insurance cost by sex and region"
   ]
  },
  {
   "cell_type": "code",
   "execution_count": 10,
   "metadata": {},
   "outputs": [
    {
     "name": "stdout",
     "output_type": "stream",
     "text": [
      "   age     sex     bmi  children smoker     region      charges\n",
      "0   19  female  27.900         0    yes  southwest  16884.92400\n",
      "1   18    male  33.770         1     no  southeast   1725.55230\n",
      "2   28    male  33.000         3     no  southeast   4449.46200\n",
      "3   33    male  22.705         0     no  northwest  21984.47061\n",
      "4   32    male  28.880         0     no  northwest   3866.85520\n"
     ]
    }
   ],
   "source": [
    "import pandas as pd\n",
    "import sys\n",
    "import matplotlib as mpl\n",
    "import math\n",
    "\n",
    "insurance_data = pd.read_csv(\"insurance.csv\")\n",
    "\n",
    "print(insurance_data.head())\n",
    "\n",
    "# Make sex and smoker into 0 and 1 column\n",
    "\n",
    "value_map = {'male': 0, 'female': 1, 'no': 0, 'yes': 1}\n",
    "insurance_data['sex'] = insurance_data['sex'].map(value_map)\n",
    "insurance_data['smoker'] = insurance_data['smoker'].map(value_map)"
   ]
  },
  {
   "cell_type": "code",
   "execution_count": 25,
   "metadata": {},
   "outputs": [
    {
     "name": "stdout",
     "output_type": "stream",
     "text": [
      "The average age of people in the dataset is 39.21 years old\n",
      "The average BMI of people in the dataset is 30.66\n",
      "The average amount of children of people in the dataset is 1.09\n",
      "The average insurance charge of people in the dataset is 13270.42$\n",
      "20.48% of the people in the dataset smoke\n"
     ]
    }
   ],
   "source": [
    "print(\"The average age of people in the dataset is\", round(insurance_data[\"age\"].mean(), 2), \"years old\")\n",
    "print(\"The average BMI of people in the dataset is\", round(insurance_data[\"bmi\"].mean(), 2))\n",
    "print(\"The average amount of children of people in the dataset is\", round(insurance_data[\"children\"].mean(), 2))\n",
    "print(\"The average insurance charge of people in the dataset is {0}$\".format(round(insurance_data[\"charges\"].mean(), 2)))\n",
    "print(\"{0}% of the people in the dataset are smokers\".format(round(insurance_data[\"smoker\"].mean() * 100, 2)))"
   ]
  }
 ],
 "metadata": {
  "kernelspec": {
   "display_name": "Python 3",
   "language": "python",
   "name": "python3"
  },
  "language_info": {
   "codemirror_mode": {
    "name": "ipython",
    "version": 3
   },
   "file_extension": ".py",
   "mimetype": "text/x-python",
   "name": "python",
   "nbconvert_exporter": "python",
   "pygments_lexer": "ipython3",
   "version": "3.10.2"
  }
 },
 "nbformat": 4,
 "nbformat_minor": 4
}

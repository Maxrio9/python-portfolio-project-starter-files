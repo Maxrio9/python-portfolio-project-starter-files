{
 "cells": [
  {
   "cell_type": "markdown",
   "metadata": {},
   "source": [
    "# U.S. Medical Insurance Costs"
   ]
  },
  {
   "cell_type": "markdown",
   "metadata": {},
   "source": [
    "Columns are:\n",
    "age, sex, bmi, children, smoker, region, charges\n",
    "In the form of:\n",
    "int, string (male/female), float, int, string (no/yes), string (southwest/northwest), float\n",
    "\n",
    "#1 & #2 Import as pandas dataframe and clean up data by transforming sex and smoker column into boolean or 0 and 1\n",
    "\n",
    "#3 Possible things to investigate\n",
    "Average Age, insurance cost and bmi\n",
    "Average insurance cost for certain age ranges: 18 - 24, 25 - 32, 33 - 40, 41 - 50, 51 - 60, etc.\n",
    "Visualise this data in a bar chart.\n",
    "Same for insurance cost by sex and region\n",
    "\n",
    "Return with better understanding of matplotlib"
   ]
  },
  {
   "cell_type": "code",
   "execution_count": 2,
   "metadata": {},
   "outputs": [
    {
     "name": "stdout",
     "output_type": "stream",
     "text": [
      "   age     sex     bmi  children smoker     region      charges\n",
      "0   19  female  27.900         0    yes  southwest  16884.92400\n",
      "1   18    male  33.770         1     no  southeast   1725.55230\n",
      "2   28    male  33.000         3     no  southeast   4449.46200\n",
      "3   33    male  22.705         0     no  northwest  21984.47061\n",
      "4   32    male  28.880         0     no  northwest   3866.85520\n"
     ]
    }
   ],
   "source": [
    "import pandas as pd\n",
    "import sys\n",
    "import matplotlib.pyplot as plt\n",
    "\n",
    "insurance_data = pd.read_csv(\"insurance.csv\")\n",
    "\n",
    "print(insurance_data.head())\n",
    "\n",
    "# Make sex and smoker into 0 and 1 column\n",
    "\n",
    "value_map = {'male': 0, 'female': 1, 'no': 0, 'yes': 1}\n",
    "insurance_data['sex'] = insurance_data['sex'].map(value_map)\n",
    "insurance_data['smoker'] = insurance_data['smoker'].map(value_map)"
   ]
  },
  {
   "cell_type": "code",
   "execution_count": 3,
   "metadata": {},
   "outputs": [
    {
     "name": "stdout",
     "output_type": "stream",
     "text": [
      "The average age of people in the dataset is 39.21 years old\n",
      "The average BMI of people in the dataset is 30.66\n",
      "The average amount of children of people in the dataset is 1.09\n",
      "The average insurance charge of people in the dataset is 13270.42$\n",
      "20.48% of the people in the dataset are smokers\n"
     ]
    }
   ],
   "source": [
    "print(\"The average age of people in the dataset is\", round(insurance_data[\"age\"].mean(), 2), \"years old\")\n",
    "print(\"The average BMI of people in the dataset is\", round(insurance_data[\"bmi\"].mean(), 2))\n",
    "print(\"The average amount of children of people in the dataset is\", round(insurance_data[\"children\"].mean(), 2))\n",
    "print(\"The average insurance charge of people in the dataset is {0}$\".format(round(insurance_data[\"charges\"].mean(), 2)))\n",
    "print(\"{0}% of the people in the dataset are smokers\".format(round(insurance_data[\"smoker\"].mean() * 100, 2)))"
   ]
  },
  {
   "cell_type": "code",
   "execution_count": 25,
   "metadata": {},
   "outputs": [
    {
     "name": "stdout",
     "output_type": "stream",
     "text": [
      "      age  sex     bmi  children  smoker     region      charges\n",
      "0      19    1  27.900         0       1  southwest  16884.92400\n",
      "1      18    0  33.770         1       0  southeast   1725.55230\n",
      "12     23    0  34.400         0       0  southwest   1826.84300\n",
      "15     19    0  24.600         1       0  southwest   1837.23700\n",
      "17     23    0  23.845         0       0  northeast   2395.17155\n",
      "...   ...  ...     ...       ...     ...        ...          ...\n",
      "1328   23    1  24.225         2       0  northeast  22395.74424\n",
      "1331   23    1  33.400         0       0  southwest  10795.93733\n",
      "1334   18    1  31.920         0       0  northeast   2205.98080\n",
      "1335   18    1  36.850         0       0  southeast   1629.83350\n",
      "1336   21    1  25.800         0       0  southwest   2007.94500\n",
      "\n",
      "[278 rows x 7 columns]\n",
      "     age  sex   bmi  children  smoker     region      charges\n",
      "0     19    1  27.9         0       1  southwest  16884.92400\n",
      "1     23    0  34.4         0       0  southwest   1826.84300\n",
      "2     19    0  24.6         1       0  southwest   1837.23700\n",
      "3     56    0  40.3         0       0  southwest  10602.38500\n",
      "4     30    0  35.3         0       1  southwest  36837.46700\n",
      "..   ...  ...   ...       ...     ...        ...          ...\n",
      "320   19    1  20.6         0       0  southwest   1731.67700\n",
      "321   52    0  38.6         2       0  southwest  10325.20600\n",
      "322   23    1  33.4         0       0  southwest  10795.93733\n",
      "323   52    1  44.7         3       0  southwest  11411.68500\n",
      "324   21    1  25.8         0       0  southwest   2007.94500\n",
      "\n",
      "[325 rows x 7 columns]\n",
      "      region  charges\n",
      "0  northeast      324\n",
      "1  northwest      325\n",
      "2  southeast      364\n",
      "3  southwest      325\n",
      "      region  smoker  charges\n",
      "0  northeast       0      257\n",
      "1  northeast       1       67\n",
      "2  northwest       0      267\n",
      "3  northwest       1       58\n",
      "4  southeast       0      273\n",
      "5  southeast       1       91\n",
      "6  southwest       0      267\n",
      "7  southwest       1       58\n",
      "smoker     region    0   1\n",
      "0       northeast  257  67\n",
      "1       northwest  267  58\n",
      "2       southeast  273  91\n",
      "3       southwest  267  58\n"
     ]
    },
    {
     "data": {
      "image/png": "[encoded data removed]",
      "text/plain": [
       "<Figure size 640x480 with 1 Axes>"
      ]
     },
     "metadata": {},
     "output_type": "display_data"
    }
   ],
   "source": [
    "def cost_by_age(df):\n",
    "    age_brackets = {\n",
    "        \"18 - 24\": (18, 24),\n",
    "        \"25 - 32\": (25, 32),\n",
    "        \"33 - 40\": (33, 40),\n",
    "        \"41 - 50\": (41, 50),\n",
    "        \"51 - 60\": (51, 60),\n",
    "        \"61 - 70\": (61, 70)\n",
    "        }\n",
    "    age_bins = [24, 32, 40, 50, 60, 70]\n",
    "    \n",
    "    # bins = [age_brackets[bracket][0] for bracket in age_brackets.values()]\n",
    "    to24 = df[df.age < 25]\n",
    "    print(to24)\n",
    "    southwests = df[df.region == \"southwest\"]\n",
    "    southwests.reset_index(inplace = True, drop = True)\n",
    "    print(southwests)\n",
    "    regions = df.groupby(\"region\").charges.count().reset_index()\n",
    "    print(regions)\n",
    "    regions_smoker = df.groupby([\"region\", \"smoker\"]).charges.count().reset_index()\n",
    "    print(regions_smoker)\n",
    "    smoker_regions = regions_smoker.pivot(columns = \"smoker\", index = \"region\", values = \"charges\").reset_index()\n",
    "    print(smoker_regions)\n",
    "\n",
    "    plt.hist(df[\"age\"], age_bins, edgecolor = \"black\")\n",
    "    plt.axvline(round(insurance_data[\"age\"].mean(), 2), color = \"black\", label = \"Average Age\")\n",
    "    plt.xlabel(\"Age\")\n",
    "    plt.ylabel(\"Insurance Cost\")\n",
    "    plt.title(\"Insurance Cost by Age Bracket\")\n",
    "    plt.legend()\n",
    "    plt.show()\n",
    "\n",
    "\n",
    "cost_by_age(insurance_data)"
   ]
  }
 ],
 "metadata": {
  "kernelspec": {
   "display_name": "Python 3",
   "language": "python",
   "name": "python3"
  },
  "language_info": {
   "codemirror_mode": {
    "name": "ipython",
    "version": 3
   },
   "file_extension": ".py",
   "mimetype": "text/x-python",
   "name": "python",
   "nbconvert_exporter": "python",
   "pygments_lexer": "ipython3",
   "version": "3.10.2"
  }
 },
 "nbformat": 4,
 "nbformat_minor": 4
}

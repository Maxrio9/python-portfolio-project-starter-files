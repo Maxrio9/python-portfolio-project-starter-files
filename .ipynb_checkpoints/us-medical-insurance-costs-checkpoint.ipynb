{
 "cells": [
  {
   "cell_type": "markdown",
   "metadata": {},
   "source": [
    "# U.S. Medical Insurance Costs"
   ]
  },
  {
   "cell_type": "markdown",
   "metadata": {},
   "source": [
    "Columns are:\n",
    "age, sex, bmi, children, smoker, region, charges\n",
    "In the form of:\n",
    "int, string (male/female), float, int, string (no/yes), string (southwest/northwest), float\n",
    "\n",
    "#1 & #2 Import as pandas dataframe and clean up data by transforming sex and smoker column into boolean or 0 and 1\n",
    "\n",
    "#3 Possible things to investigate\n",
    "Average Age, insurance cost and bmi\n",
    "Average insurance cost for certain age ranges: 18 - 24, 25 - 32, 33 - 40, 41 - 50, 51 - 60, etc.\n",
    "Visualise this data in a bar chart.\n",
    "Same for insurance cost by sex and region"
   ]
  },
  {
   "cell_type": "code",
   "execution_count": 2,
   "metadata": {},
   "outputs": [
    {
     "name": "stdout",
     "output_type": "stream",
     "text": [
      "3.8.8 (default, Apr 13 2021, 15:08:03) [MSC v.1916 64 bit (AMD64)]\n"
     ]
    }
   ],
   "source": [
    "import pandas as pd\n",
    "import sys\n",
    "# import mathplotlib as mpl\n",
    "\n",
    "insurance_data = pd.read_csv(\"insurance.csv\")\n",
    "\n",
    "# print(insurance_data.head())\n",
    "print(sys.version)"
   ]
  }
 ],
 "metadata": {
  "kernelspec": {
   "display_name": "Python 3",
   "language": "python",
   "name": "python3"
  },
  "language_info": {
   "codemirror_mode": {
    "name": "ipython",
    "version": 3
   },
   "file_extension": ".py",
   "mimetype": "text/x-python",
   "name": "python",
   "nbconvert_exporter": "python",
   "pygments_lexer": "ipython3",
   "version": "3.8.8"
  }
 },
 "nbformat": 4,
 "nbformat_minor": 4
}
